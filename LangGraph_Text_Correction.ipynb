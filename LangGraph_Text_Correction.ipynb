{
  "cells": [
    {
      "cell_type": "code",
      "execution_count": null,
      "metadata": {
        "id": "e4tPUaduhKCS",
        "outputId": "d35e1fa1-953f-4887-8b4b-f15b006d39e7",
        "colab": {
          "base_uri": "https://localhost:8080/"
        }
      },
      "outputs": [
        {
          "output_type": "stream",
          "name": "stdout",
          "text": [
            "\u001b[2K     \u001b[90m━━━━━━━━━━━━━━━━━━━━━━━━━━━━━━━━━━━━━━━━\u001b[0m \u001b[32m50.4/50.4 kB\u001b[0m \u001b[31m1.2 MB/s\u001b[0m eta \u001b[36m0:00:00\u001b[0m\n",
            "\u001b[2K   \u001b[90m━━━━━━━━━━━━━━━━━━━━━━━━━━━━━━━━━━━━━━━━\u001b[0m \u001b[32m990.6/990.6 kB\u001b[0m \u001b[31m17.4 MB/s\u001b[0m eta \u001b[36m0:00:00\u001b[0m\n",
            "\u001b[2K   \u001b[90m━━━━━━━━━━━━━━━━━━━━━━━━━━━━━━━━━━━━━━━━\u001b[0m \u001b[32m49.8/49.8 kB\u001b[0m \u001b[31m3.3 MB/s\u001b[0m eta \u001b[36m0:00:00\u001b[0m\n",
            "\u001b[2K   \u001b[90m━━━━━━━━━━━━━━━━━━━━━━━━━━━━━━━━━━━━━━━━\u001b[0m \u001b[32m81.4/81.4 kB\u001b[0m \u001b[31m4.8 MB/s\u001b[0m eta \u001b[36m0:00:00\u001b[0m\n",
            "\u001b[2K   \u001b[90m━━━━━━━━━━━━━━━━━━━━━━━━━━━━━━━━━━━━━━━━\u001b[0m \u001b[32m384.0/384.0 kB\u001b[0m \u001b[31m21.2 MB/s\u001b[0m eta \u001b[36m0:00:00\u001b[0m\n",
            "\u001b[2K   \u001b[90m━━━━━━━━━━━━━━━━━━━━━━━━━━━━━━━━━━━━━━━━\u001b[0m \u001b[32m140.2/140.2 kB\u001b[0m \u001b[31m5.2 MB/s\u001b[0m eta \u001b[36m0:00:00\u001b[0m\n",
            "\u001b[2K   \u001b[90m━━━━━━━━━━━━━━━━━━━━━━━━━━━━━━━━━━━━━━━━\u001b[0m \u001b[32m360.7/360.7 kB\u001b[0m \u001b[31m18.8 MB/s\u001b[0m eta \u001b[36m0:00:00\u001b[0m\n",
            "\u001b[2K   \u001b[90m━━━━━━━━━━━━━━━━━━━━━━━━━━━━━━━━━━━━━━━━\u001b[0m \u001b[32m1.1/1.1 MB\u001b[0m \u001b[31m35.6 MB/s\u001b[0m eta \u001b[36m0:00:00\u001b[0m\n",
            "\u001b[2K   \u001b[90m━━━━━━━━━━━━━━━━━━━━━━━━━━━━━━━━━━━━━━━━\u001b[0m \u001b[32m75.6/75.6 kB\u001b[0m \u001b[31m4.3 MB/s\u001b[0m eta \u001b[36m0:00:00\u001b[0m\n",
            "\u001b[2K   \u001b[90m━━━━━━━━━━━━━━━━━━━━━━━━━━━━━━━━━━━━━━━━\u001b[0m \u001b[32m77.9/77.9 kB\u001b[0m \u001b[31m5.0 MB/s\u001b[0m eta \u001b[36m0:00:00\u001b[0m\n",
            "\u001b[2K   \u001b[90m━━━━━━━━━━━━━━━━━━━━━━━━━━━━━━━━━━━━━━━━\u001b[0m \u001b[32m318.9/318.9 kB\u001b[0m \u001b[31m18.2 MB/s\u001b[0m eta \u001b[36m0:00:00\u001b[0m\n",
            "\u001b[2K   \u001b[90m━━━━━━━━━━━━━━━━━━━━━━━━━━━━━━━━━━━━━━━━\u001b[0m \u001b[32m141.9/141.9 kB\u001b[0m \u001b[31m10.0 MB/s\u001b[0m eta \u001b[36m0:00:00\u001b[0m\n",
            "\u001b[2K   \u001b[90m━━━━━━━━━━━━━━━━━━━━━━━━━━━━━━━━━━━━━━━━\u001b[0m \u001b[32m58.3/58.3 kB\u001b[0m \u001b[31m3.7 MB/s\u001b[0m eta \u001b[36m0:00:00\u001b[0m\n",
            "\u001b[?25h"
          ]
        }
      ],
      "source": [
        "!pip install -q langchain langchain_openai langgraph"
      ]
    },
    {
      "cell_type": "code",
      "execution_count": null,
      "metadata": {
        "id": "JMPEjocQhKCT"
      },
      "outputs": [],
      "source": [
        "from langchain_openai import ChatOpenAI\n",
        "from langgraph.graph import Graph\n",
        "\n",
        "# Set the model as ChatOpenAI\n",
        "model = ChatOpenAI(model='meta-llama/llama-3.1-8b-instruct', temperature=0)\n"
      ]
    },
    {
      "cell_type": "code",
      "execution_count": null,
      "metadata": {
        "id": "nm80K3pihKCa"
      },
      "outputs": [],
      "source": [
        "def function_1(state):\n",
        "    messages = state['messages']\n",
        "    user_input = messages[-1]\n",
        "    complete_query = \"\"\"You are an English writer assistant. Find all the grammatical mistakes in the provided text by the user and write the correct version with explanation for each one\n",
        "            \\n Here is the user text: \"\"\" + user_input\n",
        "    response = model.invoke(complete_query)\n",
        "    state['messages'].append(response.content) # appending AIMessage response to the AgentState\n",
        "    return state\n",
        "\n",
        "def function_2(state):\n",
        "    messages = state['messages']\n",
        "    agent_response = messages[-1]\n",
        "    complete_query = \"\"\"Rewrite the text and correct all the mistakes also improve the quality of the text \"\"\" + agent_response\n",
        "    response = model.invoke(complete_query)\n",
        "    state['messages'].append(response.content) # appending AIMessage response to the AgentState\n",
        "    return state\n",
        "\n",
        "def function_3(state):\n",
        "    messages = state['messages']\n",
        "    user_input = messages[0]\n",
        "    first_response = messages[1]\n",
        "    second_response = messages[-1]\n",
        "    output =  user_input + \"\\n \" + first_response + \"\\n \" + second_response\n",
        "    return output\n"
      ]
    },
    {
      "cell_type": "code",
      "execution_count": null,
      "metadata": {
        "id": "d6-1IBsbhKCa"
      },
      "outputs": [],
      "source": [
        "workflow = Graph()\n",
        "\n",
        "workflow.add_node(\"agent1\", function_1)\n",
        "workflow.add_node(\"agent2\", function_2)\n",
        "workflow.add_node(\"responder\", function_3)\n",
        "\n",
        "workflow.add_edge('agent1', 'agent2')\n",
        "workflow.add_edge('agent2', 'responder')\n",
        "\n",
        "workflow.set_entry_point(\"agent1\")\n",
        "workflow.set_finish_point(\"responder\")\n",
        "\n",
        "app = workflow.compile()"
      ]
    },
    {
      "cell_type": "code",
      "execution_count": null,
      "metadata": {
        "id": "89zAECvGhKCa",
        "outputId": "238a3e35-3ff9-428e-929b-17c816b50f4f",
        "colab": {
          "base_uri": "https://localhost:8080/",
          "height": 139
        }
      },
      "outputs": [
        {
          "output_type": "execute_result",
          "data": {
            "text/plain": [
              "'Helo am fine wat are you doin. Nice too met you\\n Here are the grammatical mistakes in the provided text with their corrections and explanations:\\n\\n**Original Text:** Helo am fine wat are you doin. Nice too met you\\n\\n**Corrected Text:** Hello, I\\'m fine. What are you doing? Nice to meet you.\\n\\n**Explanation:**\\n\\n1. **\"Helo\" should be \"Hello\"**: The correct spelling of the greeting is \"Hello\", not \"Helo\".\\n2. **\"am\" should be \"I\\'m\"**: \"I\\'m\" is a contraction of \"I am\", which is the correct way to express the sentence in informal writing. \"Am\" is a verb ending, but it\\'s not used in this context.\\n3. **\"wat\" should be \"what\"**: The correct spelling of the word is \"what\", not \"wat\".\\n4. **\"are you doin\" should be \"are you doing\"**: The correct verb form is \"doing\", not \"doin\". \"Doin\" is a colloquial or informal way of writing, but it\\'s not standard English.\\n5. **\"Nice too\" should be \"Nice to\"**: The correct phrase is \"Nice to\", not \"Nice too\". \"Too\" is used to indicate also or very, whereas \"to\" is used to indicate direction or purpose.\\n6. **\"met\" should be \"meet\"**: The correct verb form is \"meet\", not \"met\". \"Met\" is the past tense of the verb, but in this context, we need the infinitive form \"meet\" to express the idea of meeting someone.\\n\\nNote: The corrected text is written in a more formal tone, but the original text appears to be an informal, conversational text. If you want to maintain the informal tone, the corrected text could be: \"Hey, I\\'m fine. What\\'s up? Nice to meet you.\"\\n Here is the rewritten text with corrections and improvements:\\n\\n**Original Text:** Helo am fine wat are you doin. Nice too met you\\n\\n**Corrected Text:** Hello, I\\'m fine. What are you doing? Nice to meet you.\\n\\n**Improved Text:** Hi, how are you? I\\'m doing well, thanks. It\\'s great to meet you.\\n\\n**Explanation:**\\n\\n1. **Added a more formal greeting**: Instead of \"Hello\", I used \"Hi\" to make the greeting more informal and friendly.\\n2. **Added a question to show interest**: I added \"how are you?\" to show interest in the other person\\'s well-being and to start a conversation.\\n3. **Used a more formal verb form**: I used \"doing\" instead of \"doin\" to make the verb form more standard and formal.\\n4. **Used the correct phrase**: I used \"Nice to meet you\" instead of \"Nice too met you\" to make the phrase more grammatically correct and idiomatic.\\n5. **Added a polite expression**: I added \"thanks\" to make the sentence more polite and friendly.\\n6. **Used a more formal closing**: I used \"It\\'s great to meet you\" instead of \"Nice to meet you\" to make the sentence more formal and polite.\\n\\nNote: The improved text is written in a more formal and polite tone, but it\\'s still friendly and conversational. If you want to maintain the informal tone, the corrected text could be: \"Hey, how\\'s it going? I\\'m good, thanks. Nice to meet you.\"'"
            ],
            "application/vnd.google.colaboratory.intrinsic+json": {
              "type": "string"
            }
          },
          "metadata": {},
          "execution_count": 16
        }
      ],
      "source": [
        "inputs = {\"messages\": [\"Helo am fine wat are you doin. Nice too met you\"]}\n",
        "app.invoke(inputs)"
      ]
    },
    {
      "cell_type": "code",
      "execution_count": null,
      "metadata": {
        "id": "ogmgr4Y1hKCa",
        "outputId": "180c45f7-b5bc-4c9c-ba88-58c3abe65ddc",
        "colab": {
          "base_uri": "https://localhost:8080/"
        }
      },
      "outputs": [
        {
          "output_type": "stream",
          "name": "stdout",
          "text": [
            "Output from node 'agent1':\n",
            "---\n",
            "{'messages': ['Helo am fine wat are you doin. Nice too met you', 'Here are the grammatical mistakes in the provided text with their corrections and explanations:\\n\\n**Original Text:** Helo am fine wat are you doin. Nice too met you\\n\\n**Corrected Text:** Hello, I\\'m fine. What are you doing? Nice to meet you.\\n\\n**Explanation:**\\n\\n1. **\"Helo\" should be \"Hello\"**: The correct spelling of the greeting is \"Hello\", not \"Helo\".\\n2. **\"am\" should be \"I\\'m\"**: \"I\\'m\" is a contraction of \"I am\", which is the correct way to express the sentence in informal writing. \"Am\" is a verb ending, but it\\'s not used as a standalone word in this context.\\n3. **\"wat\" should be \"what\"**: The correct spelling of the word is \"what\", not \"wat\".\\n4. **\"are you doin\" should be \"are you doing\"**: The correct verb form is \"doing\", not \"doin\". \"Doin\" is a colloquial or informal way of writing, but it\\'s not standard English.\\n5. **\"Nice too\" should be \"Nice to\"**: The correct phrase is \"Nice to\", not \"Nice too\". \"Too\" is an adverb that means \"also\" or \"very\", whereas \"to\" is a preposition that indicates direction or purpose.\\n6. **\"met\" should be \"meet\"**: The correct verb form is \"meet\", not \"met\". \"Met\" is the past tense of the verb, but in this context, we\\'re using the infinitive form \"to meet\" to express the idea of meeting someone for the first time.\\n\\nI hope this helps! Let me know if you have any further questions.']}\n",
            "\n",
            "---\n",
            "\n",
            "Output from node 'agent2':\n",
            "---\n",
            "{'messages': ['Helo am fine wat are you doin. Nice too met you', 'Here are the grammatical mistakes in the provided text with their corrections and explanations:\\n\\n**Original Text:** Helo am fine wat are you doin. Nice too met you\\n\\n**Corrected Text:** Hello, I\\'m fine. What are you doing? Nice to meet you.\\n\\n**Explanation:**\\n\\n1. **\"Helo\" should be \"Hello\"**: The correct spelling of the greeting is \"Hello\", not \"Helo\".\\n2. **\"am\" should be \"I\\'m\"**: \"I\\'m\" is a contraction of \"I am\", which is the correct way to express the sentence in informal writing. \"Am\" is a verb ending, but it\\'s not used as a standalone word in this context.\\n3. **\"wat\" should be \"what\"**: The correct spelling of the word is \"what\", not \"wat\".\\n4. **\"are you doin\" should be \"are you doing\"**: The correct verb form is \"doing\", not \"doin\". \"Doin\" is a colloquial or informal way of writing, but it\\'s not standard English.\\n5. **\"Nice too\" should be \"Nice to\"**: The correct phrase is \"Nice to\", not \"Nice too\". \"Too\" is an adverb that means \"also\" or \"very\", whereas \"to\" is a preposition that indicates direction or purpose.\\n6. **\"met\" should be \"meet\"**: The correct verb form is \"meet\", not \"met\". \"Met\" is the past tense of the verb, but in this context, we\\'re using the infinitive form \"to meet\" to express the idea of meeting someone for the first time.\\n\\nI hope this helps! Let me know if you have any further questions.', 'Here is a rewritten version of the text with corrections and improvements:\\n\\n**Original Text:** Helo am fine wat are you doin. Nice too met you\\n\\n**Corrected Text:** Hello, I\\'m fine. What are you doing today? It\\'s nice to meet you.\\n\\n**Improved Text:** Hello, I\\'m doing well, thank you. How are you? It\\'s lovely to meet you. I hope you\\'re having a great day.\\n\\n**Explanation:**\\n\\n1. **Added a more formal greeting**: Instead of a simple \"Hello\", I added a more formal greeting that includes a question about the person\\'s well-being.\\n2. **Added a question to show interest**: I added a question about the person\\'s day to show interest and start a conversation.\\n3. **Used more polite language**: I used more polite language, such as \"doing well\" and \"lovely to meet you\", to create a friendly and welcoming tone.\\n4. **Added a phrase to show enthusiasm**: I added a phrase \"I hope you\\'re having a great day\" to show enthusiasm and friendliness.\\n5. **Used more standard English**: I used more standard English throughout the text, avoiding colloquialisms and informal language.\\n\\nOverall, the rewritten text is more polished, friendly, and engaging, making it suitable for a variety of contexts, such as a first meeting or a casual conversation.']}\n",
            "\n",
            "---\n",
            "\n",
            "Output from node 'responder':\n",
            "---\n",
            "Helo am fine wat are you doin. Nice too met you\n",
            " Here are the grammatical mistakes in the provided text with their corrections and explanations:\n",
            "\n",
            "**Original Text:** Helo am fine wat are you doin. Nice too met you\n",
            "\n",
            "**Corrected Text:** Hello, I'm fine. What are you doing? Nice to meet you.\n",
            "\n",
            "**Explanation:**\n",
            "\n",
            "1. **\"Helo\" should be \"Hello\"**: The correct spelling of the greeting is \"Hello\", not \"Helo\".\n",
            "2. **\"am\" should be \"I'm\"**: \"I'm\" is a contraction of \"I am\", which is the correct way to express the sentence in informal writing. \"Am\" is a verb ending, but it's not used as a standalone word in this context.\n",
            "3. **\"wat\" should be \"what\"**: The correct spelling of the word is \"what\", not \"wat\".\n",
            "4. **\"are you doin\" should be \"are you doing\"**: The correct verb form is \"doing\", not \"doin\". \"Doin\" is a colloquial or informal way of writing, but it's not standard English.\n",
            "5. **\"Nice too\" should be \"Nice to\"**: The correct phrase is \"Nice to\", not \"Nice too\". \"Too\" is an adverb that means \"also\" or \"very\", whereas \"to\" is a preposition that indicates direction or purpose.\n",
            "6. **\"met\" should be \"meet\"**: The correct verb form is \"meet\", not \"met\". \"Met\" is the past tense of the verb, but in this context, we're using the infinitive form \"to meet\" to express the idea of meeting someone for the first time.\n",
            "\n",
            "I hope this helps! Let me know if you have any further questions.\n",
            " Here is a rewritten version of the text with corrections and improvements:\n",
            "\n",
            "**Original Text:** Helo am fine wat are you doin. Nice too met you\n",
            "\n",
            "**Corrected Text:** Hello, I'm fine. What are you doing today? It's nice to meet you.\n",
            "\n",
            "**Improved Text:** Hello, I'm doing well, thank you. How are you? It's lovely to meet you. I hope you're having a great day.\n",
            "\n",
            "**Explanation:**\n",
            "\n",
            "1. **Added a more formal greeting**: Instead of a simple \"Hello\", I added a more formal greeting that includes a question about the person's well-being.\n",
            "2. **Added a question to show interest**: I added a question about the person's day to show interest and start a conversation.\n",
            "3. **Used more polite language**: I used more polite language, such as \"doing well\" and \"lovely to meet you\", to create a friendly and welcoming tone.\n",
            "4. **Added a phrase to show enthusiasm**: I added a phrase \"I hope you're having a great day\" to show enthusiasm and friendliness.\n",
            "5. **Used more standard English**: I used more standard English throughout the text, avoiding colloquialisms and informal language.\n",
            "\n",
            "Overall, the rewritten text is more polished, friendly, and engaging, making it suitable for a variety of contexts, such as a first meeting or a casual conversation.\n",
            "\n",
            "---\n",
            "\n"
          ]
        }
      ],
      "source": [
        "input = {\"messages\": [\"Helo am fine wat are you doin. Nice too met you\"]}\n",
        "for output in app.stream(input):\n",
        "    # stream() yields dictionaries with output keyed by node name\n",
        "    for key, value in output.items():\n",
        "        print(f\"Output from node '{key}':\")\n",
        "        print(\"---\")\n",
        "        print(value)\n",
        "    print(\"\\n---\\n\")"
      ]
    }
  ],
  "metadata": {
    "kernelspec": {
      "display_name": "Python 3",
      "language": "python",
      "name": "python3"
    },
    "language_info": {
      "codemirror_mode": {
        "name": "ipython",
        "version": 3
      },
      "file_extension": ".py",
      "mimetype": "text/x-python",
      "name": "python",
      "nbconvert_exporter": "python",
      "pygments_lexer": "ipython3",
      "version": "3.10.13"
    },
    "colab": {
      "provenance": []
    }
  },
  "nbformat": 4,
  "nbformat_minor": 0
}